{
 "cells": [
  {
   "cell_type": "code",
   "execution_count": 51,
   "metadata": {},
   "outputs": [
    {
     "name": "stdout",
     "output_type": "stream",
     "text": [
      "x0=0\n",
      "Pentru x =  0.0  , func =  1.0\n",
      "c=0.1\n",
      "Pentru x =  1.2000000000000002  , func =  -4.76\n",
      "c=0.1\n",
      "Pentru x =  0.96  , func =  -4.990399999999999\n",
      "c=0.1\n",
      "Pentru x =  1.008  , func =  -4.999616\n",
      "c=0.1\n",
      "Pentru x =  0.9984  , func =  -4.999984639999999\n"
     ]
    }
   ],
   "source": [
    "import numpy as np\n",
    "\n",
    "x0 = float(input(\"x0=\"))\n",
    "func = 6*(x**2) -12*x + 1\n",
    "func_derivat = 12*x - 12\n",
    "\n",
    "func = 6*(x0**2) -12*x0 + 1\n",
    "print(\"Pentru x = \",x0,\" , func = \",func)\n",
    "\n",
    "X = np.array([])\n",
    "X = np.append(X,x0)\n",
    "\n",
    "c = float(input(\"c=\"))\n",
    "i = 0\n",
    "while i >= 0:\n",
    "    x = X[i] - c*((12*X[i])-12)\n",
    "    print(\"Pentru x = \",x,\" , func = \",6*(x**2) -12*x + 1)\n",
    "    X = np.append(X,x)\n",
    "    if(abs(X[i+1]-X[i]) < 0.01):\n",
    "        break\n",
    "    else: \n",
    "        i += 1\n",
    "        c = float(input(\"c=\"))"
   ]
  },
  {
   "cell_type": "code",
   "execution_count": null,
   "metadata": {},
   "outputs": [],
   "source": [
    "#g = x**2 + 2*(y**2)\n",
    "#h = (1-x)**2 + 100*(x - (y**2))**2\n",
    "\n",
    "#g_derivX = 2*x\n",
    "#g_derivY = 4*y\n",
    "\n",
    "#h_derivX = -2 + 202*x - 200*(y**2)\n",
    "#h_derivY = -400*y*(x-(y**2))\n",
    "\n",
    "a = int(input(\"Alegeti ecuatia: 1.g= x**2 + 2*(y**2) sau 2.h = (1-x)**2 + 100*(x - (y**2))**2:\"))\n",
    "\n",
    "x0 = float(input(\"x0=\"))\n",
    "y0 = float(input(\"y0=\"))\n",
    "\n",
    "if(a == 1):\n",
    "        g = x0**2 + 2*(y0**2)\n",
    "        print(\"Pentru x = \",x0,\" si y = \",y0,\" , g = \",g)\n",
    "\n",
    "        X = np.array([])\n",
    "        X = np.append(X,x0)\n",
    "        Y = np.array([])\n",
    "        Y = np.append(Y,y0)\n",
    "\n",
    "        c = float(input(\"c=\"))\n",
    "        i = 0\n",
    "        while i >= 0:\n",
    "            x = X[i] - c*2*X[i]\n",
    "            y = Y[i] - c*4*Y[i]\n",
    "            g = x**2 + 2*(y**2)\n",
    "            print(\"Pentru x = \",x,\" si y = \",y,\" , g = \",g)\n",
    "            X = np.append(X,x)\n",
    "            Y = np.append(Y,y)\n",
    "            if(abs(X[i+1]-X[i]) < 0.01 and abs(Y[i+1]-Y[i]) < 0.01):\n",
    "                break\n",
    "            else: \n",
    "                i += 1\n",
    "                c = float(input(\"c=\"))\n",
    "elif(a == 2):\n",
    "\n",
    "    h = (1-x0)**2 + 100*(x0 - (y0**2))**2\n",
    "    print(\"Pentru x = \",x0,\" si y = \",y0,\" , h = \",h)\n",
    "\n",
    "    X = np.array([])\n",
    "    X = np.append(X,x0)\n",
    "    Y = np.array([])\n",
    "    Y = np.append(Y,y0)\n",
    "\n",
    "    c = float(input(\"c=\"))\n",
    "    i = 0\n",
    "    while i >= 0:\n",
    "        x = X[i] - c*(-2 + 202*X[i] - 200*(Y[i]**2))\n",
    "        y = Y[i] - c*(-400*Y[i]*(X[i]-(Y[i]**2)))\n",
    "        h = (1-x)**2 + 100*(x - (y**2))**2\n",
    "        print(\"Pentru x = \",x,\" si y = \",y,\" , h = \",h)\n",
    "        X = np.append(X,x)\n",
    "        Y = np.append(Y,y)\n",
    "        if(abs(X[i+1]-X[i]) < 0.01 and abs(Y[i+1]-Y[i]) < 0.01):\n",
    "            break\n",
    "        else: \n",
    "            i += 1\n",
    "            c = float(input(\"c=\"))  "
   ]
  },
  {
   "cell_type": "code",
   "execution_count": null,
   "metadata": {},
   "outputs": [],
   "source": [
    "                    "
   ]
  },
  {
   "cell_type": "code",
   "execution_count": null,
   "metadata": {},
   "outputs": [],
   "source": []
  },
  {
   "cell_type": "markdown",
   "metadata": {},
   "source": []
  }
 ],
 "metadata": {
  "kernelspec": {
   "display_name": "Python 3",
   "language": "python",
   "name": "python3"
  },
  "language_info": {
   "codemirror_mode": {
    "name": "ipython",
    "version": 3
   },
   "file_extension": ".py",
   "mimetype": "text/x-python",
   "name": "python",
   "nbconvert_exporter": "python",
   "pygments_lexer": "ipython3",
   "version": "3.8.5"
  }
 },
 "nbformat": 4,
 "nbformat_minor": 4
}
