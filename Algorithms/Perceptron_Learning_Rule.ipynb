{
 "cells": [
  {
   "cell_type": "code",
   "execution_count": 16,
   "metadata": {},
   "outputs": [
    {
     "name": "stdout",
     "output_type": "stream",
     "text": [
      "net1 =  1\n",
      "2.0\n",
      "net2 =  0.0\n",
      "2.5\n",
      "[-2.0, -0.5, 0]\n",
      "net1 =  -4.5\n",
      "0.0\n",
      "net2 =  0.5\n",
      "0.0\n",
      "[-2.0, -0.5, 0]\n"
     ]
    }
   ],
   "source": [
    "import numpy as np\n",
    "\n",
    "x1 = [2, 1, -1]\n",
    "x2 = [0, -1, -1]\n",
    "\n",
    "w = [0, 1, 0]\n",
    "w1 = [0, 1, 0]\n",
    "C1 = [0, 0, 0]\n",
    "\n",
    "d1 = -1\n",
    "d2 = 1\n",
    "c = 1\n",
    "count = 0\n",
    "\n",
    "while c!=0:\n",
    "    \n",
    "    for i in range(2):\n",
    "        if i%2!=0:\n",
    "            net = np.dot(x2,w)\n",
    "            print('net2 = ',net)\n",
    "            o = np.sign(net)\n",
    "            r = d2-o\n",
    "            for i in range(2):\n",
    "                w[i] = w[i] + c*r/2*x2[i]\n",
    "            \n",
    "        else:\n",
    "            net = np.dot(x1,w)\n",
    "            print('net1 = ',net)\n",
    "            o = np.sign(net)\n",
    "            r = d1-o\n",
    "            for i in range(2):\n",
    "                w[i] = w[i] + c*r/2*x1[i]\n",
    "        \n",
    "        if ((C1[0] - w[0])+(C1[1]-w[1])+(C1[2]-w[2])) == 0:\n",
    "            count = count + 1\n",
    "      \n",
    "    print(w)\n",
    "    for i in range(3):\n",
    "        C1[i] = w[i]\n",
    "    \n",
    "    if count == 2:\n",
    "        break\n",
    "    else:\n",
    "        continue        "
   ]
  },
  {
   "cell_type": "code",
   "execution_count": null,
   "metadata": {},
   "outputs": [],
   "source": []
  }
 ],
 "metadata": {
  "kernelspec": {
   "display_name": "Python 3",
   "language": "python",
   "name": "python3"
  },
  "language_info": {
   "codemirror_mode": {
    "name": "ipython",
    "version": 3
   },
   "file_extension": ".py",
   "mimetype": "text/x-python",
   "name": "python",
   "nbconvert_exporter": "python",
   "pygments_lexer": "ipython3",
   "version": "3.8.5"
  }
 },
 "nbformat": 4,
 "nbformat_minor": 4
}
