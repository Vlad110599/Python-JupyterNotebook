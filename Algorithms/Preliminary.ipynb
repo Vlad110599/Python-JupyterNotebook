{
 "cells": [
  {
   "cell_type": "code",
   "execution_count": 1,
   "metadata": {},
   "outputs": [
    {
     "name": "stdout",
     "output_type": "stream",
     "text": [
      "x =  [2 1 2]\n",
      "y =  [ 1 -1  4]\n",
      "produs_scalar =  9\n",
      "||x|| =  3.0\n",
      "||y|| =  4.24\n",
      "cos =  41.0\n"
     ]
    }
   ],
   "source": [
    "import numpy as np\n",
    "import math\n",
    "from math import copysign \n",
    "\n",
    "x = np.array([2,1,2])\n",
    "y = np.array([1,-1,4])\n",
    "\n",
    "print('x = ',x)\n",
    "print('y = ',y)\n",
    "\n",
    "produs_scalar = x.dot(y)\n",
    "print('produs_scalar = ',produs_scalar)\n",
    "\n",
    "norm_x = np.linalg.norm(x)\n",
    "print('||x|| = ',norm_x)\n",
    "\n",
    "norm_y = np.linalg.norm(y)\n",
    "print(\"||y|| = \",round(norm_y, 2))\n",
    "\n",
    "cos = produs_scalar/(norm_x*norm_y)\n",
    "print('cos = ',round(math.degrees(cos), 0))"
   ]
  },
  {
   "cell_type": "code",
   "execution_count": 3,
   "metadata": {},
   "outputs": [
    {
     "name": "stdout",
     "output_type": "stream",
     "text": [
      "x1=-1\n",
      "x2=-1\n",
      "x3=-1\n",
      "P 0  este in clasa 2\n",
      "x1=-1\n",
      "x2=-1\n",
      "x3=1\n",
      "P 1  este in clasa 2\n",
      "x1=-1\n",
      "x2=1\n",
      "x3=-1\n",
      "P 2  este in clasa 2\n",
      "x1=-1\n",
      "x2=1\n",
      "x3=1\n",
      "P 3  este in clasa 1\n",
      "x1=1\n",
      "x2=1\n",
      "x3=-1\n",
      "P 4  este in clasa 1\n",
      "x1=1\n",
      "x2=-1\n",
      "x3=-1\n",
      "P 5  este in clasa 2\n",
      "x1=1\n",
      "x2=-1\n",
      "x3=1\n",
      "P 6  este in clasa 1\n",
      "x1=1\n",
      "x2=1\n",
      "x3=1\n",
      "P 7  este in clasa 1\n"
     ]
    }
   ],
   "source": [
    "for i in range(8):\n",
    "    x1 = int(input(\"x1=\"))\n",
    "    x2 = int(input(\"x2=\"))\n",
    "    x3 = int(input(\"x3=\"))\n",
    "    \n",
    "    sum = x1 + x2 + x3\n",
    "    if(np.sign(sum) >= 1):\n",
    "        print('P',i,' este in clasa 1')\n",
    "    elif(np.sign(sum) == -1):\n",
    "        print('P',i,' este in clasa 2')"
   ]
  },
  {
   "cell_type": "code",
   "execution_count": 4,
   "metadata": {},
   "outputs": [
    {
     "name": "stdout",
     "output_type": "stream",
     "text": [
      "P 0  este in clasa 2\n",
      "P 1  este in clasa 2\n",
      "P 2  este in clasa 2\n",
      "P 3  este in clasa 1\n",
      "P 4  este in clasa 1\n",
      "P 5  este in clasa 2\n",
      "P 6  este in clasa 1\n",
      "P 7  este in clasa 1\n"
     ]
    }
   ],
   "source": [
    "p = np.array([[-1,-1,-1],\n",
    "             [-1,-1,1],\n",
    "             [-1,1,-1],\n",
    "             [-1,1,1],\n",
    "             [1,1,-1],\n",
    "             [1,-1,-1],\n",
    "             [1,-1,1],\n",
    "             [1,1,1]])\n",
    "\n",
    "for i in range(8):\n",
    "    o = np.sign(np.sum(p[i]))\n",
    "    if(o == 1): print('P',i,' este in clasa 1')\n",
    "    elif(o == -1):  print('P',i,' este in clasa 2')"
   ]
  },
  {
   "cell_type": "code",
   "execution_count": 8,
   "metadata": {
    "scrolled": true
   },
   "outputs": [
    {
     "name": "stdout",
     "output_type": "stream",
     "text": [
      "O1=-1\n",
      "O2=1\n",
      "O3=-1\n",
      "O1= -1.0 O2= 1.0 O3= -1.0\n",
      "O1= 1.0 O2= 1.0 O3= -1.0\n"
     ]
    }
   ],
   "source": [
    "O1 = np.array([])\n",
    "O2 = np.array([])\n",
    "O3 = np.array([])\n",
    "O = np.array([[]])\n",
    "\n",
    "x1 = int(input(\"O1=\"))\n",
    "x2 = int(input(\"O2=\"))\n",
    "x3 = int(input(\"O3=\"))\n",
    "\n",
    "O1 = np.append(O1,x1)\n",
    "O2 = np.append(O2,x2)\n",
    "O3 = np.append(O3,x3)\n",
    "O = np.array([[x1,x2,x3],])\n",
    "\n",
    "for i in range(8):\n",
    "    a = np.sign(O2[i]-O3[i])\n",
    "    b = np.sign(O1[i]-O3[i])\n",
    "    c = np.sign(-O1[i]-O2[i])\n",
    "    if(a == 0):\n",
    "        a = O1[i]\n",
    "    if(b == 0):\n",
    "        b = O2[i]\n",
    "    if(c == 0):\n",
    "        c = O3[i]\n",
    "        \n",
    "    O1 = np.append(O1,a)\n",
    "    O2 = np.append(O2,b)\n",
    "    O3 = np.append(O3,c)\n",
    "    O = np.append(O,[[a,b,c]],axis = 0)\n",
    "    if((O[i] != O[i+1]).any()):\n",
    "        print('O1=',O1[i],'O2=',O2[i],'O3=',O3[i])\n",
    "    else: break   \n",
    "print('O1=',O1[i],'O2=',O2[i],'O3=',O3[i])    "
   ]
  },
  {
   "cell_type": "code",
   "execution_count": null,
   "metadata": {},
   "outputs": [],
   "source": []
  },
  {
   "cell_type": "code",
   "execution_count": null,
   "metadata": {},
   "outputs": [],
   "source": []
  }
 ],
 "metadata": {
  "kernelspec": {
   "display_name": "Python 3",
   "language": "python",
   "name": "python3"
  },
  "language_info": {
   "codemirror_mode": {
    "name": "ipython",
    "version": 3
   },
   "file_extension": ".py",
   "mimetype": "text/x-python",
   "name": "python",
   "nbconvert_exporter": "python",
   "pygments_lexer": "ipython3",
   "version": "3.8.5"
  }
 },
 "nbformat": 4,
 "nbformat_minor": 4
}
