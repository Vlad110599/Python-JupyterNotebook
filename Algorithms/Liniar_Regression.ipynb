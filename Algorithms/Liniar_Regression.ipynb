{
 "cells": [
  {
   "cell_type": "code",
   "execution_count": 11,
   "metadata": {},
   "outputs": [
    {
     "name": "stdout",
     "output_type": "stream",
     "text": [
      "       0        1\n",
      "0    1.1   39.343\n",
      "1    1.5   37.731\n",
      "2    2.2   39.891\n",
      "3    3.0   60.150\n",
      "4    3.2   64.445\n",
      "5    3.9   63.218\n",
      "6    4.0   56.957\n",
      "7    4.5   61.111\n",
      "8    5.1   66.029\n",
      "9    5.9   81.363\n",
      "10   6.8   91.738\n",
      "11   7.9  101.302\n",
      "12   8.7  109.431\n",
      "13   9.5  116.969\n",
      "14  10.3  122.391\n",
      "[ 1.1  1.5  2.2  3.   3.2  3.9  4.   4.5  5.1  5.9  6.8  7.9  8.7  9.5\n",
      " 10.3]\n",
      "[ 39.343  37.731  39.891  60.15   64.445  63.218  56.957  61.111  66.029\n",
      "  81.363  91.738 101.302 109.431 116.969 122.391]\n",
      "Nr. epoci =4\n",
      "Pentru W1 =  0  si W2 =  0  dreapta de regresie este: y= 0 x + 0\n",
      "Pentru W1 =  4.59  si W2 =  0.74  dreapta de regresie este: y= 4.59 x + 0.74\n",
      "Pentru W1 =  12.14  si W2 =  1.98  dreapta de regresie este: y= 12.14 x + 1.98\n",
      "Pentru W1 =  19.97  si W2 =  3.31  dreapta de regresie este: y= 19.97 x + 3.31\n"
     ]
    }
   ],
   "source": [
    "import numpy as np \n",
    "import pandas as pd\n",
    "\n",
    "myist = []\n",
    "read = pd.read_csv('Salary_Data.csv',header=None,skiprows=1)\n",
    "pd.set_option('display.max_rows', None)\n",
    "print(read)\n",
    "\n",
    "x = np.array(read[0])\n",
    "print(x)\n",
    "y = np.array(read[1])\n",
    "print(y)\n",
    "\n",
    "W1 = 0\n",
    "W2 = 0\n",
    "\n",
    "ep = int(input(\"Nr. epoci =\"))\n",
    "\n",
    "s1 = 0\n",
    "s2 = 0\n",
    "c = 0.01\n",
    "\n",
    "while ep != 0:\n",
    "    for i in range(0,len(read)):\n",
    "        s1 = s1 + (y[i]-(W1*x[i]+W2))*x[i]\n",
    "        s2 = s2 + (y[i]-(W1*x[i]+W2))\n",
    "        \n",
    "    print(\"Pentru W1 = \",W1,\" si W2 = \",W2,\" dreapta de regresie este: y=\",W1,\"x +\",W2)\n",
    "    \n",
    "    W1 = round(W1-c*(-s1/len(read)),2)\n",
    "    W2 = round(W2-c*(-s2/len(read)),2)\n",
    "    \n",
    "    ep = ep-1"
   ]
  },
  {
   "cell_type": "code",
   "execution_count": null,
   "metadata": {},
   "outputs": [],
   "source": []
  }
 ],
 "metadata": {
  "kernelspec": {
   "display_name": "Python 3",
   "language": "python",
   "name": "python3"
  },
  "language_info": {
   "codemirror_mode": {
    "name": "ipython",
    "version": 3
   },
   "file_extension": ".py",
   "mimetype": "text/x-python",
   "name": "python",
   "nbconvert_exporter": "python",
   "pygments_lexer": "ipython3",
   "version": "3.8.5"
  }
 },
 "nbformat": 4,
 "nbformat_minor": 4
}
